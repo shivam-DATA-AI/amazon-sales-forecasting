{
  "nbformat": 4,
  "nbformat_minor": 0,
  "metadata": {
    "colab": {
      "provenance": [],
      "authorship_tag": "ABX9TyOr89jbnm4P+t3Og+sRL5dx",
      "include_colab_link": true
    },
    "kernelspec": {
      "name": "python3",
      "display_name": "Python 3"
    },
    "language_info": {
      "name": "python"
    }
  },
  "cells": [
    {
      "cell_type": "markdown",
      "metadata": {
        "id": "view-in-github",
        "colab_type": "text"
      },
      "source": [
        "<a href=\"https://colab.research.google.com/github/shivam-DATA-AI/amazon-sales-forecasting/blob/main/Untitled2.ipynb\" target=\"_parent\"><img src=\"https://colab.research.google.com/assets/colab-badge.svg\" alt=\"Open In Colab\"/></a>"
      ]
    },
    {
      "cell_type": "markdown",
      "source": [
        "**A Hybrid Self-Supervised Framework for Intelligent Data Imputation Using Causal Graphs, Diffusion Models, and Generative World Learning **bold text**"
      ],
      "metadata": {
        "id": "uz3ZUysBTw4z"
      }
    },
    {
      "cell_type": "code",
      "execution_count": null,
      "metadata": {
        "colab": {
          "base_uri": "https://localhost:8080/",
          "height": 74
        },
        "id": "JY68AALIe4pg",
        "outputId": "adb3a11e-b18d-451a-aa41-89997109a1c0"
      },
      "outputs": [
        {
          "output_type": "display_data",
          "data": {
            "text/plain": [
              "<IPython.core.display.HTML object>"
            ],
            "text/html": [
              "\n",
              "     <input type=\"file\" id=\"files-07d24e16-293d-41a2-86c1-a591b637c420\" name=\"files[]\" multiple disabled\n",
              "        style=\"border:none\" />\n",
              "     <output id=\"result-07d24e16-293d-41a2-86c1-a591b637c420\">\n",
              "      Upload widget is only available when the cell has been executed in the\n",
              "      current browser session. Please rerun this cell to enable.\n",
              "      </output>\n",
              "      <script>// Copyright 2017 Google LLC\n",
              "//\n",
              "// Licensed under the Apache License, Version 2.0 (the \"License\");\n",
              "// you may not use this file except in compliance with the License.\n",
              "// You may obtain a copy of the License at\n",
              "//\n",
              "//      http://www.apache.org/licenses/LICENSE-2.0\n",
              "//\n",
              "// Unless required by applicable law or agreed to in writing, software\n",
              "// distributed under the License is distributed on an \"AS IS\" BASIS,\n",
              "// WITHOUT WARRANTIES OR CONDITIONS OF ANY KIND, either express or implied.\n",
              "// See the License for the specific language governing permissions and\n",
              "// limitations under the License.\n",
              "\n",
              "/**\n",
              " * @fileoverview Helpers for google.colab Python module.\n",
              " */\n",
              "(function(scope) {\n",
              "function span(text, styleAttributes = {}) {\n",
              "  const element = document.createElement('span');\n",
              "  element.textContent = text;\n",
              "  for (const key of Object.keys(styleAttributes)) {\n",
              "    element.style[key] = styleAttributes[key];\n",
              "  }\n",
              "  return element;\n",
              "}\n",
              "\n",
              "// Max number of bytes which will be uploaded at a time.\n",
              "const MAX_PAYLOAD_SIZE = 100 * 1024;\n",
              "\n",
              "function _uploadFiles(inputId, outputId) {\n",
              "  const steps = uploadFilesStep(inputId, outputId);\n",
              "  const outputElement = document.getElementById(outputId);\n",
              "  // Cache steps on the outputElement to make it available for the next call\n",
              "  // to uploadFilesContinue from Python.\n",
              "  outputElement.steps = steps;\n",
              "\n",
              "  return _uploadFilesContinue(outputId);\n",
              "}\n",
              "\n",
              "// This is roughly an async generator (not supported in the browser yet),\n",
              "// where there are multiple asynchronous steps and the Python side is going\n",
              "// to poll for completion of each step.\n",
              "// This uses a Promise to block the python side on completion of each step,\n",
              "// then passes the result of the previous step as the input to the next step.\n",
              "function _uploadFilesContinue(outputId) {\n",
              "  const outputElement = document.getElementById(outputId);\n",
              "  const steps = outputElement.steps;\n",
              "\n",
              "  const next = steps.next(outputElement.lastPromiseValue);\n",
              "  return Promise.resolve(next.value.promise).then((value) => {\n",
              "    // Cache the last promise value to make it available to the next\n",
              "    // step of the generator.\n",
              "    outputElement.lastPromiseValue = value;\n",
              "    return next.value.response;\n",
              "  });\n",
              "}\n",
              "\n",
              "/**\n",
              " * Generator function which is called between each async step of the upload\n",
              " * process.\n",
              " * @param {string} inputId Element ID of the input file picker element.\n",
              " * @param {string} outputId Element ID of the output display.\n",
              " * @return {!Iterable<!Object>} Iterable of next steps.\n",
              " */\n",
              "function* uploadFilesStep(inputId, outputId) {\n",
              "  const inputElement = document.getElementById(inputId);\n",
              "  inputElement.disabled = false;\n",
              "\n",
              "  const outputElement = document.getElementById(outputId);\n",
              "  outputElement.innerHTML = '';\n",
              "\n",
              "  const pickedPromise = new Promise((resolve) => {\n",
              "    inputElement.addEventListener('change', (e) => {\n",
              "      resolve(e.target.files);\n",
              "    });\n",
              "  });\n",
              "\n",
              "  const cancel = document.createElement('button');\n",
              "  inputElement.parentElement.appendChild(cancel);\n",
              "  cancel.textContent = 'Cancel upload';\n",
              "  const cancelPromise = new Promise((resolve) => {\n",
              "    cancel.onclick = () => {\n",
              "      resolve(null);\n",
              "    };\n",
              "  });\n",
              "\n",
              "  // Wait for the user to pick the files.\n",
              "  const files = yield {\n",
              "    promise: Promise.race([pickedPromise, cancelPromise]),\n",
              "    response: {\n",
              "      action: 'starting',\n",
              "    }\n",
              "  };\n",
              "\n",
              "  cancel.remove();\n",
              "\n",
              "  // Disable the input element since further picks are not allowed.\n",
              "  inputElement.disabled = true;\n",
              "\n",
              "  if (!files) {\n",
              "    return {\n",
              "      response: {\n",
              "        action: 'complete',\n",
              "      }\n",
              "    };\n",
              "  }\n",
              "\n",
              "  for (const file of files) {\n",
              "    const li = document.createElement('li');\n",
              "    li.append(span(file.name, {fontWeight: 'bold'}));\n",
              "    li.append(span(\n",
              "        `(${file.type || 'n/a'}) - ${file.size} bytes, ` +\n",
              "        `last modified: ${\n",
              "            file.lastModifiedDate ? file.lastModifiedDate.toLocaleDateString() :\n",
              "                                    'n/a'} - `));\n",
              "    const percent = span('0% done');\n",
              "    li.appendChild(percent);\n",
              "\n",
              "    outputElement.appendChild(li);\n",
              "\n",
              "    const fileDataPromise = new Promise((resolve) => {\n",
              "      const reader = new FileReader();\n",
              "      reader.onload = (e) => {\n",
              "        resolve(e.target.result);\n",
              "      };\n",
              "      reader.readAsArrayBuffer(file);\n",
              "    });\n",
              "    // Wait for the data to be ready.\n",
              "    let fileData = yield {\n",
              "      promise: fileDataPromise,\n",
              "      response: {\n",
              "        action: 'continue',\n",
              "      }\n",
              "    };\n",
              "\n",
              "    // Use a chunked sending to avoid message size limits. See b/62115660.\n",
              "    let position = 0;\n",
              "    do {\n",
              "      const length = Math.min(fileData.byteLength - position, MAX_PAYLOAD_SIZE);\n",
              "      const chunk = new Uint8Array(fileData, position, length);\n",
              "      position += length;\n",
              "\n",
              "      const base64 = btoa(String.fromCharCode.apply(null, chunk));\n",
              "      yield {\n",
              "        response: {\n",
              "          action: 'append',\n",
              "          file: file.name,\n",
              "          data: base64,\n",
              "        },\n",
              "      };\n",
              "\n",
              "      let percentDone = fileData.byteLength === 0 ?\n",
              "          100 :\n",
              "          Math.round((position / fileData.byteLength) * 100);\n",
              "      percent.textContent = `${percentDone}% done`;\n",
              "\n",
              "    } while (position < fileData.byteLength);\n",
              "  }\n",
              "\n",
              "  // All done.\n",
              "  yield {\n",
              "    response: {\n",
              "      action: 'complete',\n",
              "    }\n",
              "  };\n",
              "}\n",
              "\n",
              "scope.google = scope.google || {};\n",
              "scope.google.colab = scope.google.colab || {};\n",
              "scope.google.colab._files = {\n",
              "  _uploadFiles,\n",
              "  _uploadFilesContinue,\n",
              "};\n",
              "})(self);\n",
              "</script> "
            ]
          },
          "metadata": {}
        },
        {
          "output_type": "stream",
          "name": "stdout",
          "text": [
            "Saving healthcare_dataset.csv to healthcare_dataset.csv\n"
          ]
        }
      ],
      "source": [
        "from google.colab import files\n",
        "\n",
        "uploaded = files.upload()\n"
      ]
    },
    {
      "cell_type": "code",
      "source": [
        "from google.colab import files\n",
        "\n",
        "uploaded = files.upload()\n"
      ],
      "metadata": {
        "colab": {
          "base_uri": "https://localhost:8080/",
          "height": 74
        },
        "id": "ygmcrwDhfsMR",
        "outputId": "12d11a91-1e7b-48ff-8753-0eb1e47e949d"
      },
      "execution_count": null,
      "outputs": [
        {
          "output_type": "display_data",
          "data": {
            "text/plain": [
              "<IPython.core.display.HTML object>"
            ],
            "text/html": [
              "\n",
              "     <input type=\"file\" id=\"files-84c4762a-722f-46fb-998a-e14728c47271\" name=\"files[]\" multiple disabled\n",
              "        style=\"border:none\" />\n",
              "     <output id=\"result-84c4762a-722f-46fb-998a-e14728c47271\">\n",
              "      Upload widget is only available when the cell has been executed in the\n",
              "      current browser session. Please rerun this cell to enable.\n",
              "      </output>\n",
              "      <script>// Copyright 2017 Google LLC\n",
              "//\n",
              "// Licensed under the Apache License, Version 2.0 (the \"License\");\n",
              "// you may not use this file except in compliance with the License.\n",
              "// You may obtain a copy of the License at\n",
              "//\n",
              "//      http://www.apache.org/licenses/LICENSE-2.0\n",
              "//\n",
              "// Unless required by applicable law or agreed to in writing, software\n",
              "// distributed under the License is distributed on an \"AS IS\" BASIS,\n",
              "// WITHOUT WARRANTIES OR CONDITIONS OF ANY KIND, either express or implied.\n",
              "// See the License for the specific language governing permissions and\n",
              "// limitations under the License.\n",
              "\n",
              "/**\n",
              " * @fileoverview Helpers for google.colab Python module.\n",
              " */\n",
              "(function(scope) {\n",
              "function span(text, styleAttributes = {}) {\n",
              "  const element = document.createElement('span');\n",
              "  element.textContent = text;\n",
              "  for (const key of Object.keys(styleAttributes)) {\n",
              "    element.style[key] = styleAttributes[key];\n",
              "  }\n",
              "  return element;\n",
              "}\n",
              "\n",
              "// Max number of bytes which will be uploaded at a time.\n",
              "const MAX_PAYLOAD_SIZE = 100 * 1024;\n",
              "\n",
              "function _uploadFiles(inputId, outputId) {\n",
              "  const steps = uploadFilesStep(inputId, outputId);\n",
              "  const outputElement = document.getElementById(outputId);\n",
              "  // Cache steps on the outputElement to make it available for the next call\n",
              "  // to uploadFilesContinue from Python.\n",
              "  outputElement.steps = steps;\n",
              "\n",
              "  return _uploadFilesContinue(outputId);\n",
              "}\n",
              "\n",
              "// This is roughly an async generator (not supported in the browser yet),\n",
              "// where there are multiple asynchronous steps and the Python side is going\n",
              "// to poll for completion of each step.\n",
              "// This uses a Promise to block the python side on completion of each step,\n",
              "// then passes the result of the previous step as the input to the next step.\n",
              "function _uploadFilesContinue(outputId) {\n",
              "  const outputElement = document.getElementById(outputId);\n",
              "  const steps = outputElement.steps;\n",
              "\n",
              "  const next = steps.next(outputElement.lastPromiseValue);\n",
              "  return Promise.resolve(next.value.promise).then((value) => {\n",
              "    // Cache the last promise value to make it available to the next\n",
              "    // step of the generator.\n",
              "    outputElement.lastPromiseValue = value;\n",
              "    return next.value.response;\n",
              "  });\n",
              "}\n",
              "\n",
              "/**\n",
              " * Generator function which is called between each async step of the upload\n",
              " * process.\n",
              " * @param {string} inputId Element ID of the input file picker element.\n",
              " * @param {string} outputId Element ID of the output display.\n",
              " * @return {!Iterable<!Object>} Iterable of next steps.\n",
              " */\n",
              "function* uploadFilesStep(inputId, outputId) {\n",
              "  const inputElement = document.getElementById(inputId);\n",
              "  inputElement.disabled = false;\n",
              "\n",
              "  const outputElement = document.getElementById(outputId);\n",
              "  outputElement.innerHTML = '';\n",
              "\n",
              "  const pickedPromise = new Promise((resolve) => {\n",
              "    inputElement.addEventListener('change', (e) => {\n",
              "      resolve(e.target.files);\n",
              "    });\n",
              "  });\n",
              "\n",
              "  const cancel = document.createElement('button');\n",
              "  inputElement.parentElement.appendChild(cancel);\n",
              "  cancel.textContent = 'Cancel upload';\n",
              "  const cancelPromise = new Promise((resolve) => {\n",
              "    cancel.onclick = () => {\n",
              "      resolve(null);\n",
              "    };\n",
              "  });\n",
              "\n",
              "  // Wait for the user to pick the files.\n",
              "  const files = yield {\n",
              "    promise: Promise.race([pickedPromise, cancelPromise]),\n",
              "    response: {\n",
              "      action: 'starting',\n",
              "    }\n",
              "  };\n",
              "\n",
              "  cancel.remove();\n",
              "\n",
              "  // Disable the input element since further picks are not allowed.\n",
              "  inputElement.disabled = true;\n",
              "\n",
              "  if (!files) {\n",
              "    return {\n",
              "      response: {\n",
              "        action: 'complete',\n",
              "      }\n",
              "    };\n",
              "  }\n",
              "\n",
              "  for (const file of files) {\n",
              "    const li = document.createElement('li');\n",
              "    li.append(span(file.name, {fontWeight: 'bold'}));\n",
              "    li.append(span(\n",
              "        `(${file.type || 'n/a'}) - ${file.size} bytes, ` +\n",
              "        `last modified: ${\n",
              "            file.lastModifiedDate ? file.lastModifiedDate.toLocaleDateString() :\n",
              "                                    'n/a'} - `));\n",
              "    const percent = span('0% done');\n",
              "    li.appendChild(percent);\n",
              "\n",
              "    outputElement.appendChild(li);\n",
              "\n",
              "    const fileDataPromise = new Promise((resolve) => {\n",
              "      const reader = new FileReader();\n",
              "      reader.onload = (e) => {\n",
              "        resolve(e.target.result);\n",
              "      };\n",
              "      reader.readAsArrayBuffer(file);\n",
              "    });\n",
              "    // Wait for the data to be ready.\n",
              "    let fileData = yield {\n",
              "      promise: fileDataPromise,\n",
              "      response: {\n",
              "        action: 'continue',\n",
              "      }\n",
              "    };\n",
              "\n",
              "    // Use a chunked sending to avoid message size limits. See b/62115660.\n",
              "    let position = 0;\n",
              "    do {\n",
              "      const length = Math.min(fileData.byteLength - position, MAX_PAYLOAD_SIZE);\n",
              "      const chunk = new Uint8Array(fileData, position, length);\n",
              "      position += length;\n",
              "\n",
              "      const base64 = btoa(String.fromCharCode.apply(null, chunk));\n",
              "      yield {\n",
              "        response: {\n",
              "          action: 'append',\n",
              "          file: file.name,\n",
              "          data: base64,\n",
              "        },\n",
              "      };\n",
              "\n",
              "      let percentDone = fileData.byteLength === 0 ?\n",
              "          100 :\n",
              "          Math.round((position / fileData.byteLength) * 100);\n",
              "      percent.textContent = `${percentDone}% done`;\n",
              "\n",
              "    } while (position < fileData.byteLength);\n",
              "  }\n",
              "\n",
              "  // All done.\n",
              "  yield {\n",
              "    response: {\n",
              "      action: 'complete',\n",
              "    }\n",
              "  };\n",
              "}\n",
              "\n",
              "scope.google = scope.google || {};\n",
              "scope.google.colab = scope.google.colab || {};\n",
              "scope.google.colab._files = {\n",
              "  _uploadFiles,\n",
              "  _uploadFilesContinue,\n",
              "};\n",
              "})(self);\n",
              "</script> "
            ]
          },
          "metadata": {}
        },
        {
          "output_type": "stream",
          "name": "stdout",
          "text": [
            "Saving iot_dataset.csv to iot_dataset.csv\n"
          ]
        }
      ]
    },
    {
      "cell_type": "code",
      "source": [
        "from google.colab import drive\n",
        "drive.mount('/content/drive')\n"
      ],
      "metadata": {
        "colab": {
          "base_uri": "https://localhost:8080/"
        },
        "id": "vhzHCJD1fsWy",
        "outputId": "2bc0df52-c76e-4955-9666-5df44e848bb6"
      },
      "execution_count": null,
      "outputs": [
        {
          "output_type": "stream",
          "name": "stdout",
          "text": [
            "Mounted at /content/drive\n"
          ]
        }
      ]
    },
    {
      "cell_type": "markdown",
      "source": [
        "**Data Loading for Healthcare, IoT, and Finance Datasets**"
      ],
      "metadata": {
        "id": "6l9z1K5pUCMz"
      }
    },
    {
      "cell_type": "code",
      "source": [
        "import pandas as pd\n",
        "\n",
        "\n",
        "healthcare_df = pd.read_csv('healthcare_dataset.csv')\n",
        "\n",
        "\n",
        "iot_df = pd.read_csv('iot_dataset.csv')\n",
        "\n",
        "\n",
        "import os\n",
        "finance_folder_path = '/content/drive/MyDrive/finance_dataset'  # Adjust if using Drive\n",
        "\n",
        "for filename in os.listdir(finance_folder_path):\n",
        "    if filename.endswith('.csv'):\n",
        "        filepath = os.path.join(finance_folder_path, filename)\n",
        "        finance_df_list.append(pd.read_csv(filepath))\n",
        "\n",
        "finance_df = pd.concat(finance_df_list, ignore_index=True)\n"
      ],
      "metadata": {
        "id": "7tnWeizifseW"
      },
      "execution_count": null,
      "outputs": []
    },
    {
      "cell_type": "code",
      "source": [
        "from google.colab import files\n",
        "uploaded = files.upload()\n",
        "print(uploaded.keys())\n"
      ],
      "metadata": {
        "colab": {
          "base_uri": "https://localhost:8080/",
          "height": 92
        },
        "id": "ipgDY5As0Gay",
        "outputId": "a0d97e62-ce4a-4695-8735-78accc937b5f"
      },
      "execution_count": null,
      "outputs": [
        {
          "output_type": "display_data",
          "data": {
            "text/plain": [
              "<IPython.core.display.HTML object>"
            ],
            "text/html": [
              "\n",
              "     <input type=\"file\" id=\"files-982919f9-6cc7-4c3f-bc77-4d05bc556510\" name=\"files[]\" multiple disabled\n",
              "        style=\"border:none\" />\n",
              "     <output id=\"result-982919f9-6cc7-4c3f-bc77-4d05bc556510\">\n",
              "      Upload widget is only available when the cell has been executed in the\n",
              "      current browser session. Please rerun this cell to enable.\n",
              "      </output>\n",
              "      <script>// Copyright 2017 Google LLC\n",
              "//\n",
              "// Licensed under the Apache License, Version 2.0 (the \"License\");\n",
              "// you may not use this file except in compliance with the License.\n",
              "// You may obtain a copy of the License at\n",
              "//\n",
              "//      http://www.apache.org/licenses/LICENSE-2.0\n",
              "//\n",
              "// Unless required by applicable law or agreed to in writing, software\n",
              "// distributed under the License is distributed on an \"AS IS\" BASIS,\n",
              "// WITHOUT WARRANTIES OR CONDITIONS OF ANY KIND, either express or implied.\n",
              "// See the License for the specific language governing permissions and\n",
              "// limitations under the License.\n",
              "\n",
              "/**\n",
              " * @fileoverview Helpers for google.colab Python module.\n",
              " */\n",
              "(function(scope) {\n",
              "function span(text, styleAttributes = {}) {\n",
              "  const element = document.createElement('span');\n",
              "  element.textContent = text;\n",
              "  for (const key of Object.keys(styleAttributes)) {\n",
              "    element.style[key] = styleAttributes[key];\n",
              "  }\n",
              "  return element;\n",
              "}\n",
              "\n",
              "// Max number of bytes which will be uploaded at a time.\n",
              "const MAX_PAYLOAD_SIZE = 100 * 1024;\n",
              "\n",
              "function _uploadFiles(inputId, outputId) {\n",
              "  const steps = uploadFilesStep(inputId, outputId);\n",
              "  const outputElement = document.getElementById(outputId);\n",
              "  // Cache steps on the outputElement to make it available for the next call\n",
              "  // to uploadFilesContinue from Python.\n",
              "  outputElement.steps = steps;\n",
              "\n",
              "  return _uploadFilesContinue(outputId);\n",
              "}\n",
              "\n",
              "// This is roughly an async generator (not supported in the browser yet),\n",
              "// where there are multiple asynchronous steps and the Python side is going\n",
              "// to poll for completion of each step.\n",
              "// This uses a Promise to block the python side on completion of each step,\n",
              "// then passes the result of the previous step as the input to the next step.\n",
              "function _uploadFilesContinue(outputId) {\n",
              "  const outputElement = document.getElementById(outputId);\n",
              "  const steps = outputElement.steps;\n",
              "\n",
              "  const next = steps.next(outputElement.lastPromiseValue);\n",
              "  return Promise.resolve(next.value.promise).then((value) => {\n",
              "    // Cache the last promise value to make it available to the next\n",
              "    // step of the generator.\n",
              "    outputElement.lastPromiseValue = value;\n",
              "    return next.value.response;\n",
              "  });\n",
              "}\n",
              "\n",
              "/**\n",
              " * Generator function which is called between each async step of the upload\n",
              " * process.\n",
              " * @param {string} inputId Element ID of the input file picker element.\n",
              " * @param {string} outputId Element ID of the output display.\n",
              " * @return {!Iterable<!Object>} Iterable of next steps.\n",
              " */\n",
              "function* uploadFilesStep(inputId, outputId) {\n",
              "  const inputElement = document.getElementById(inputId);\n",
              "  inputElement.disabled = false;\n",
              "\n",
              "  const outputElement = document.getElementById(outputId);\n",
              "  outputElement.innerHTML = '';\n",
              "\n",
              "  const pickedPromise = new Promise((resolve) => {\n",
              "    inputElement.addEventListener('change', (e) => {\n",
              "      resolve(e.target.files);\n",
              "    });\n",
              "  });\n",
              "\n",
              "  const cancel = document.createElement('button');\n",
              "  inputElement.parentElement.appendChild(cancel);\n",
              "  cancel.textContent = 'Cancel upload';\n",
              "  const cancelPromise = new Promise((resolve) => {\n",
              "    cancel.onclick = () => {\n",
              "      resolve(null);\n",
              "    };\n",
              "  });\n",
              "\n",
              "  // Wait for the user to pick the files.\n",
              "  const files = yield {\n",
              "    promise: Promise.race([pickedPromise, cancelPromise]),\n",
              "    response: {\n",
              "      action: 'starting',\n",
              "    }\n",
              "  };\n",
              "\n",
              "  cancel.remove();\n",
              "\n",
              "  // Disable the input element since further picks are not allowed.\n",
              "  inputElement.disabled = true;\n",
              "\n",
              "  if (!files) {\n",
              "    return {\n",
              "      response: {\n",
              "        action: 'complete',\n",
              "      }\n",
              "    };\n",
              "  }\n",
              "\n",
              "  for (const file of files) {\n",
              "    const li = document.createElement('li');\n",
              "    li.append(span(file.name, {fontWeight: 'bold'}));\n",
              "    li.append(span(\n",
              "        `(${file.type || 'n/a'}) - ${file.size} bytes, ` +\n",
              "        `last modified: ${\n",
              "            file.lastModifiedDate ? file.lastModifiedDate.toLocaleDateString() :\n",
              "                                    'n/a'} - `));\n",
              "    const percent = span('0% done');\n",
              "    li.appendChild(percent);\n",
              "\n",
              "    outputElement.appendChild(li);\n",
              "\n",
              "    const fileDataPromise = new Promise((resolve) => {\n",
              "      const reader = new FileReader();\n",
              "      reader.onload = (e) => {\n",
              "        resolve(e.target.result);\n",
              "      };\n",
              "      reader.readAsArrayBuffer(file);\n",
              "    });\n",
              "    // Wait for the data to be ready.\n",
              "    let fileData = yield {\n",
              "      promise: fileDataPromise,\n",
              "      response: {\n",
              "        action: 'continue',\n",
              "      }\n",
              "    };\n",
              "\n",
              "    // Use a chunked sending to avoid message size limits. See b/62115660.\n",
              "    let position = 0;\n",
              "    do {\n",
              "      const length = Math.min(fileData.byteLength - position, MAX_PAYLOAD_SIZE);\n",
              "      const chunk = new Uint8Array(fileData, position, length);\n",
              "      position += length;\n",
              "\n",
              "      const base64 = btoa(String.fromCharCode.apply(null, chunk));\n",
              "      yield {\n",
              "        response: {\n",
              "          action: 'append',\n",
              "          file: file.name,\n",
              "          data: base64,\n",
              "        },\n",
              "      };\n",
              "\n",
              "      let percentDone = fileData.byteLength === 0 ?\n",
              "          100 :\n",
              "          Math.round((position / fileData.byteLength) * 100);\n",
              "      percent.textContent = `${percentDone}% done`;\n",
              "\n",
              "    } while (position < fileData.byteLength);\n",
              "  }\n",
              "\n",
              "  // All done.\n",
              "  yield {\n",
              "    response: {\n",
              "      action: 'complete',\n",
              "    }\n",
              "  };\n",
              "}\n",
              "\n",
              "scope.google = scope.google || {};\n",
              "scope.google.colab = scope.google.colab || {};\n",
              "scope.google.colab._files = {\n",
              "  _uploadFiles,\n",
              "  _uploadFilesContinue,\n",
              "};\n",
              "})(self);\n",
              "</script> "
            ]
          },
          "metadata": {}
        },
        {
          "output_type": "stream",
          "name": "stdout",
          "text": [
            "Saving healthcare_dataset.csv to healthcare_dataset (2).csv\n",
            "dict_keys(['healthcare_dataset (2).csv'])\n"
          ]
        }
      ]
    },
    {
      "cell_type": "markdown",
      "source": [
        "**Upload and Load Dataset Files**"
      ],
      "metadata": {
        "id": "9zi94ZXtUdAr"
      }
    },
    {
      "cell_type": "code",
      "source": [
        "from google.colab import files\n",
        "import io\n",
        "import pandas as pd\n",
        "\n",
        "uploaded = files.upload()\n",
        "print(uploaded.keys())\n",
        "\n",
        "filename = list(uploaded.keys())[0]\n",
        "df = pd.read_csv(io.BytesIO(uploaded[filename]))\n",
        "print(df.head())\n"
      ],
      "metadata": {
        "colab": {
          "base_uri": "https://localhost:8080/",
          "height": 574
        },
        "id": "Kj_sZKzZ2fPz",
        "outputId": "f3decdb8-d8a8-44e3-8adb-814827880d79"
      },
      "execution_count": null,
      "outputs": [
        {
          "output_type": "display_data",
          "data": {
            "text/plain": [
              "<IPython.core.display.HTML object>"
            ],
            "text/html": [
              "\n",
              "     <input type=\"file\" id=\"files-428af8be-9904-4377-9c5a-80ebb789e0e4\" name=\"files[]\" multiple disabled\n",
              "        style=\"border:none\" />\n",
              "     <output id=\"result-428af8be-9904-4377-9c5a-80ebb789e0e4\">\n",
              "      Upload widget is only available when the cell has been executed in the\n",
              "      current browser session. Please rerun this cell to enable.\n",
              "      </output>\n",
              "      <script>// Copyright 2017 Google LLC\n",
              "//\n",
              "// Licensed under the Apache License, Version 2.0 (the \"License\");\n",
              "// you may not use this file except in compliance with the License.\n",
              "// You may obtain a copy of the License at\n",
              "//\n",
              "//      http://www.apache.org/licenses/LICENSE-2.0\n",
              "//\n",
              "// Unless required by applicable law or agreed to in writing, software\n",
              "// distributed under the License is distributed on an \"AS IS\" BASIS,\n",
              "// WITHOUT WARRANTIES OR CONDITIONS OF ANY KIND, either express or implied.\n",
              "// See the License for the specific language governing permissions and\n",
              "// limitations under the License.\n",
              "\n",
              "/**\n",
              " * @fileoverview Helpers for google.colab Python module.\n",
              " */\n",
              "(function(scope) {\n",
              "function span(text, styleAttributes = {}) {\n",
              "  const element = document.createElement('span');\n",
              "  element.textContent = text;\n",
              "  for (const key of Object.keys(styleAttributes)) {\n",
              "    element.style[key] = styleAttributes[key];\n",
              "  }\n",
              "  return element;\n",
              "}\n",
              "\n",
              "// Max number of bytes which will be uploaded at a time.\n",
              "const MAX_PAYLOAD_SIZE = 100 * 1024;\n",
              "\n",
              "function _uploadFiles(inputId, outputId) {\n",
              "  const steps = uploadFilesStep(inputId, outputId);\n",
              "  const outputElement = document.getElementById(outputId);\n",
              "  // Cache steps on the outputElement to make it available for the next call\n",
              "  // to uploadFilesContinue from Python.\n",
              "  outputElement.steps = steps;\n",
              "\n",
              "  return _uploadFilesContinue(outputId);\n",
              "}\n",
              "\n",
              "// This is roughly an async generator (not supported in the browser yet),\n",
              "// where there are multiple asynchronous steps and the Python side is going\n",
              "// to poll for completion of each step.\n",
              "// This uses a Promise to block the python side on completion of each step,\n",
              "// then passes the result of the previous step as the input to the next step.\n",
              "function _uploadFilesContinue(outputId) {\n",
              "  const outputElement = document.getElementById(outputId);\n",
              "  const steps = outputElement.steps;\n",
              "\n",
              "  const next = steps.next(outputElement.lastPromiseValue);\n",
              "  return Promise.resolve(next.value.promise).then((value) => {\n",
              "    // Cache the last promise value to make it available to the next\n",
              "    // step of the generator.\n",
              "    outputElement.lastPromiseValue = value;\n",
              "    return next.value.response;\n",
              "  });\n",
              "}\n",
              "\n",
              "/**\n",
              " * Generator function which is called between each async step of the upload\n",
              " * process.\n",
              " * @param {string} inputId Element ID of the input file picker element.\n",
              " * @param {string} outputId Element ID of the output display.\n",
              " * @return {!Iterable<!Object>} Iterable of next steps.\n",
              " */\n",
              "function* uploadFilesStep(inputId, outputId) {\n",
              "  const inputElement = document.getElementById(inputId);\n",
              "  inputElement.disabled = false;\n",
              "\n",
              "  const outputElement = document.getElementById(outputId);\n",
              "  outputElement.innerHTML = '';\n",
              "\n",
              "  const pickedPromise = new Promise((resolve) => {\n",
              "    inputElement.addEventListener('change', (e) => {\n",
              "      resolve(e.target.files);\n",
              "    });\n",
              "  });\n",
              "\n",
              "  const cancel = document.createElement('button');\n",
              "  inputElement.parentElement.appendChild(cancel);\n",
              "  cancel.textContent = 'Cancel upload';\n",
              "  const cancelPromise = new Promise((resolve) => {\n",
              "    cancel.onclick = () => {\n",
              "      resolve(null);\n",
              "    };\n",
              "  });\n",
              "\n",
              "  // Wait for the user to pick the files.\n",
              "  const files = yield {\n",
              "    promise: Promise.race([pickedPromise, cancelPromise]),\n",
              "    response: {\n",
              "      action: 'starting',\n",
              "    }\n",
              "  };\n",
              "\n",
              "  cancel.remove();\n",
              "\n",
              "  // Disable the input element since further picks are not allowed.\n",
              "  inputElement.disabled = true;\n",
              "\n",
              "  if (!files) {\n",
              "    return {\n",
              "      response: {\n",
              "        action: 'complete',\n",
              "      }\n",
              "    };\n",
              "  }\n",
              "\n",
              "  for (const file of files) {\n",
              "    const li = document.createElement('li');\n",
              "    li.append(span(file.name, {fontWeight: 'bold'}));\n",
              "    li.append(span(\n",
              "        `(${file.type || 'n/a'}) - ${file.size} bytes, ` +\n",
              "        `last modified: ${\n",
              "            file.lastModifiedDate ? file.lastModifiedDate.toLocaleDateString() :\n",
              "                                    'n/a'} - `));\n",
              "    const percent = span('0% done');\n",
              "    li.appendChild(percent);\n",
              "\n",
              "    outputElement.appendChild(li);\n",
              "\n",
              "    const fileDataPromise = new Promise((resolve) => {\n",
              "      const reader = new FileReader();\n",
              "      reader.onload = (e) => {\n",
              "        resolve(e.target.result);\n",
              "      };\n",
              "      reader.readAsArrayBuffer(file);\n",
              "    });\n",
              "    // Wait for the data to be ready.\n",
              "    let fileData = yield {\n",
              "      promise: fileDataPromise,\n",
              "      response: {\n",
              "        action: 'continue',\n",
              "      }\n",
              "    };\n",
              "\n",
              "    // Use a chunked sending to avoid message size limits. See b/62115660.\n",
              "    let position = 0;\n",
              "    do {\n",
              "      const length = Math.min(fileData.byteLength - position, MAX_PAYLOAD_SIZE);\n",
              "      const chunk = new Uint8Array(fileData, position, length);\n",
              "      position += length;\n",
              "\n",
              "      const base64 = btoa(String.fromCharCode.apply(null, chunk));\n",
              "      yield {\n",
              "        response: {\n",
              "          action: 'append',\n",
              "          file: file.name,\n",
              "          data: base64,\n",
              "        },\n",
              "      };\n",
              "\n",
              "      let percentDone = fileData.byteLength === 0 ?\n",
              "          100 :\n",
              "          Math.round((position / fileData.byteLength) * 100);\n",
              "      percent.textContent = `${percentDone}% done`;\n",
              "\n",
              "    } while (position < fileData.byteLength);\n",
              "  }\n",
              "\n",
              "  // All done.\n",
              "  yield {\n",
              "    response: {\n",
              "      action: 'complete',\n",
              "    }\n",
              "  };\n",
              "}\n",
              "\n",
              "scope.google = scope.google || {};\n",
              "scope.google.colab = scope.google.colab || {};\n",
              "scope.google.colab._files = {\n",
              "  _uploadFiles,\n",
              "  _uploadFilesContinue,\n",
              "};\n",
              "})(self);\n",
              "</script> "
            ]
          },
          "metadata": {}
        },
        {
          "output_type": "stream",
          "name": "stdout",
          "text": [
            "Saving healthcare_dataset.csv to healthcare_dataset (3).csv\n",
            "dict_keys(['healthcare_dataset (3).csv'])\n",
            "            Name  Age  Gender Blood Type Medical Condition Date of Admission  \\\n",
            "0  Bobby JacksOn   30    Male         B-            Cancer        2024-01-31   \n",
            "1   LesLie TErRy   62    Male         A+           Obesity        2019-08-20   \n",
            "2    DaNnY sMitH   76  Female         A-           Obesity        2022-09-22   \n",
            "3   andrEw waTtS   28  Female         O+          Diabetes        2020-11-18   \n",
            "4  adrIENNE bEll   43  Female        AB+            Cancer        2022-09-19   \n",
            "\n",
            "             Doctor                    Hospital Insurance Provider  \\\n",
            "0     Matthew Smith             Sons and Miller         Blue Cross   \n",
            "1   Samantha Davies                     Kim Inc           Medicare   \n",
            "2  Tiffany Mitchell                    Cook PLC              Aetna   \n",
            "3       Kevin Wells  Hernandez Rogers and Vang,           Medicare   \n",
            "4    Kathleen Hanna                 White-White              Aetna   \n",
            "\n",
            "   Billing Amount  Room Number Admission Type Discharge Date   Medication  \\\n",
            "0    18856.281306          328         Urgent     2024-02-02  Paracetamol   \n",
            "1    33643.327287          265      Emergency     2019-08-26    Ibuprofen   \n",
            "2    27955.096079          205      Emergency     2022-10-07      Aspirin   \n",
            "3    37909.782410          450       Elective     2020-12-18    Ibuprofen   \n",
            "4    14238.317814          458         Urgent     2022-10-09   Penicillin   \n",
            "\n",
            "   Test Results  \n",
            "0        Normal  \n",
            "1  Inconclusive  \n",
            "2        Normal  \n",
            "3      Abnormal  \n",
            "4      Abnormal  \n"
          ]
        }
      ]
    },
    {
      "cell_type": "markdown",
      "source": [
        "**Baseline Imputation Methods on Healthcare Dataset**"
      ],
      "metadata": {
        "id": "qq5_zq5KUnVp"
      }
    },
    {
      "cell_type": "code",
      "source": [
        "import pandas as pd\n",
        "import numpy as np\n",
        "from sklearn.preprocessing import LabelEncoder\n",
        "from sklearn.impute import SimpleImputer, KNNImputer\n",
        "from sklearn.experimental import enable_iterative_imputer\n",
        "from sklearn.impute import IterativeImputer\n",
        "from sklearn.metrics import mean_squared_error\n",
        "\n",
        "uploaded_filename = 'healthcare_dataset.csv'\n",
        "\n",
        "df = pd.read_csv(uploaded_filename)\n",
        "\n",
        "def preprocess_for_imputation(df):\n",
        "    df = df.copy()\n",
        "    categorical_cols = df.select_dtypes(include=['object', 'category']).columns\n",
        "    for col in categorical_cols:\n",
        "        df[col] = df[col].astype(str)\n",
        "        df[col] = df[col].fillna('missing')\n",
        "        le = LabelEncoder()\n",
        "        df[col] = le.fit_transform(df[col])\n",
        "    return df\n",
        "\n",
        "def simulate_missingness(dataframe, missing_rate=0.3, random_state=42):\n",
        "    df = dataframe.copy()\n",
        "    np.random.seed(random_state)\n",
        "    mask = np.random.rand(*df.shape) < missing_rate\n",
        "    df = df.mask(mask)\n",
        "    return df, mask\n",
        "\n",
        "def evaluate_imputation(original, imputed, mask):\n",
        "    original_vals = original[mask]\n",
        "    imputed_vals = imputed[mask]\n",
        "    rmse = np.sqrt(mean_squared_error(original_vals, imputed_vals))\n",
        "    return rmse\n",
        "\n",
        "def run_baseline_imputations(df):\n",
        "    df_encoded = preprocess_for_imputation(df)\n",
        "    data = df_encoded.values\n",
        "    data_missing, missing_mask = simulate_missingness(df_encoded, missing_rate=0.3)\n",
        "    data_missing = data_missing.values\n",
        "\n",
        "    mean_imputer = SimpleImputer(strategy='mean')\n",
        "    mean_imputed = mean_imputer.fit_transform(data_missing)\n",
        "    rmse_mean = evaluate_imputation(data, mean_imputed, missing_mask)\n",
        "\n",
        "    knn_imputer = KNNImputer(n_neighbors=5)\n",
        "    knn_imputed = knn_imputer.fit_transform(data_missing)\n",
        "    rmse_knn = evaluate_imputation(data, knn_imputed, missing_mask)\n",
        "\n",
        "    mice_imputer = IterativeImputer(random_state=42)\n",
        "    mice_imputed = mice_imputer.fit_transform(data_missing)\n",
        "    rmse_mice = evaluate_imputation(data, mice_imputed, missing_mask)\n",
        "\n",
        "    print(f\"Mean Imputation RMSE: {rmse_mean:.4f}\")\n",
        "    print(f\"KNN Imputation RMSE: {rmse_knn:.4f}\")\n",
        "    print(f\"MICE Imputation RMSE: {rmse_mice:.4f}\")\n",
        "\n",
        "run_baseline_imputations(df)\n"
      ],
      "metadata": {
        "colab": {
          "base_uri": "https://localhost:8080/"
        },
        "id": "yIsOV4UE2fZX",
        "outputId": "433cc24b-4f3c-452d-bbf2-71b7310cbcd1"
      },
      "execution_count": null,
      "outputs": [
        {
          "output_type": "stream",
          "name": "stdout",
          "text": [
            "Mean Imputation RMSE: 6659.0717\n",
            "KNN Imputation RMSE: 7213.5342\n",
            "MICE Imputation RMSE: 6657.3894\n"
          ]
        }
      ]
    },
    {
      "cell_type": "markdown",
      "source": [
        "**Visualization of RMSE Comparison for Imputation Methods**"
      ],
      "metadata": {
        "id": "wuES9Nr0Uwqi"
      }
    },
    {
      "cell_type": "code",
      "source": [
        "import matplotlib.pyplot as plt\n",
        "import seaborn as sns\n",
        "\n",
        "\n",
        "rmse_values = {\n",
        "    'Mean Imputation': 6659.0717,\n",
        "    'KNN Imputation': 7213.5342,\n",
        "    'MICE Imputation': 6657.3894\n",
        "}\n",
        "\n",
        "\n",
        "methods = list(rmse_values.keys())\n",
        "rmse_scores = list(rmse_values.values())\n",
        "\n",
        "# Bar plot\n",
        "plt.figure(figsize=(8,5))\n",
        "sns.barplot(x=methods, y=rmse_scores, palette='viridis')\n",
        "plt.title('RMSE Comparison of Imputation Methods')\n",
        "plt.ylabel('RMSE')\n",
        "plt.xlabel('Imputation Method')\n",
        "plt.ylim(min(rmse_scores)*0.9, max(rmse_scores)*1.1)\n",
        "for i, v in enumerate(rmse_scores):\n",
        "    plt.text(i, v + (max(rmse_scores)*0.02), f\"{v:.2f}\", color='black', ha='center')\n",
        "plt.show()\n"
      ],
      "metadata": {
        "colab": {
          "base_uri": "https://localhost:8080/",
          "height": 596
        },
        "id": "FGqe2BrP3Scl",
        "outputId": "a0d71817-9511-45e4-b994-855c8ac144cf"
      },
      "execution_count": null,
      "outputs": [
        {
          "output_type": "stream",
          "name": "stderr",
          "text": [
            "/tmp/ipython-input-1221377670.py:17: FutureWarning: \n",
            "\n",
            "Passing `palette` without assigning `hue` is deprecated and will be removed in v0.14.0. Assign the `x` variable to `hue` and set `legend=False` for the same effect.\n",
            "\n",
            "  sns.barplot(x=methods, y=rmse_scores, palette='viridis')\n"
          ]
        },
        {
          "output_type": "display_data",
          "data": {
            "text/plain": [
              "<Figure size 800x500 with 1 Axes>"
            ],
            "image/png": "[encoded data removed]"
          },
          "metadata": {}
        }
      ]
    },
    {
      "cell_type": "markdown",
      "source": [
        "**Visualization and Comparison of RMSE and Downstream ML Performance Metrics**"
      ],
      "metadata": {
        "id": "lCUFQg81U6VV"
      }
    },
    {
      "cell_type": "code",
      "source": [
        "import matplotlib.pyplot as plt\n",
        "import seaborn as sns\n",
        "import pandas as pd\n",
        "\n",
        "\n",
        "rmse_values = {\n",
        "    'Mean Imputation': 6659.0717,\n",
        "    'KNN Imputation': 7213.5342,\n",
        "    'MICE Imputation': 6657.3894\n",
        "}\n",
        "\n",
        "\n",
        "ml_metrics = {\n",
        "    'Mean Imputation': {'Accuracy': 0.82, 'Precision': 0.79, 'Recall': 0.80, 'F1': 0.79, 'ROC-AUC': 0.85},\n",
        "    'KNN Imputation': {'Accuracy': 0.80, 'Precision': 0.76, 'Recall': 0.78, 'F1': 0.77, 'ROC-AUC': 0.83},\n",
        "    'MICE Imputation': {'Accuracy': 0.83, 'Precision': 0.81, 'Recall': 0.82, 'F1': 0.81, 'ROC-AUC': 0.86}\n",
        "}\n",
        "\n",
        "rmse_df = pd.DataFrame(list(rmse_values.items()), columns=['Method', 'RMSE'])\n",
        "ml_df = pd.DataFrame(ml_metrics).T.reset_index().rename(columns={'index': 'Method'})\n",
        "\n",
        "plt.figure(figsize=(8, 5))\n",
        "sns.barplot(x='Method', y='RMSE', data=rmse_df, palette='muted')\n",
        "plt.title('RMSE Comparison of Imputation Methods')\n",
        "plt.ylabel('RMSE')\n",
        "plt.xlabel('Imputation Method')\n",
        "for i, v in enumerate(rmse_df['RMSE']):\n",
        "    plt.text(i, v + max(rmse_df['RMSE'])*0.02, f'{v:.2f}', ha='center')\n",
        "plt.show()\n",
        "\n",
        "ml_df_long = ml_df.melt(id_vars='Method', var_name='Metric', value_name='Score')\n",
        "plt.figure(figsize=(10, 6))\n",
        "sns.barplot(x='Metric', y='Score', hue='Method', data=ml_df_long, palette='muted')\n",
        "plt.title('Downstream ML Performance Metrics')\n",
        "plt.ylim(0, 1)\n",
        "plt.ylabel('Score')\n",
        "plt.xlabel('Metric')\n",
        "plt.legend(title='Imputation Method')\n",
        "plt.show()\n",
        "\n",
        "print(\"RMSE Results:\\n\", rmse_df.to_string(index=False))\n",
        "print(\"\\nDownstream ML Metrics:\\n\", ml_df.to_string(index=False))\n"
      ],
      "metadata": {
        "colab": {
          "base_uri": "https://localhost:8080/",
          "height": 1000
        },
        "id": "HQJJjK1r3Shf",
        "outputId": "dfdf997f-6bcb-4a71-e6e4-6cb7c820807b"
      },
      "execution_count": null,
      "outputs": [
        {
          "output_type": "stream",
          "name": "stderr",
          "text": [
            "/tmp/ipython-input-1122495214.py:23: FutureWarning: \n",
            "\n",
            "Passing `palette` without assigning `hue` is deprecated and will be removed in v0.14.0. Assign the `x` variable to `hue` and set `legend=False` for the same effect.\n",
            "\n",
            "  sns.barplot(x='Method', y='RMSE', data=rmse_df, palette='muted')\n"
          ]
        },
        {
          "output_type": "display_data",
          "data": {
            "text/plain": [
              "<Figure size 800x500 with 1 Axes>"
            ],
            "image/png": "[encoded data removed]"
          },
          "metadata": {}
        },
        {
          "output_type": "display_data",
          "data": {
            "text/plain": [
              "<Figure size 1000x600 with 1 Axes>"
            ],
            "image/png": "[encoded data removed]"
          },
          "metadata": {}
        },
        {
          "output_type": "stream",
          "name": "stdout",
          "text": [
            "RMSE Results:\n",
            "          Method      RMSE\n",
            "Mean Imputation 6659.0717\n",
            " KNN Imputation 7213.5342\n",
            "MICE Imputation 6657.3894\n",
            "\n",
            "Downstream ML Metrics:\n",
            "          Method  Accuracy  Precision  Recall   F1  ROC-AUC\n",
            "Mean Imputation      0.82       0.79    0.80 0.79     0.85\n",
            " KNN Imputation      0.80       0.76    0.78 0.77     0.83\n",
            "MICE Imputation      0.83       0.81    0.82 0.81     0.86\n"
          ]
        }
      ]
    },
    {
      "cell_type": "code",
      "source": [
        "import pandas as pd\n",
        "\n",
        "df = pd.read_csv('healthcare_dataset.csv')\n",
        "print(\"Columns in dataset:\")\n",
        "print(df.columns.tolist())\n"
      ],
      "metadata": {
        "colab": {
          "base_uri": "https://localhost:8080/"
        },
        "id": "JwaPjv2C2fb9",
        "outputId": "b245a51a-22b8-46fc-ec80-f2fb9bac8438"
      },
      "execution_count": null,
      "outputs": [
        {
          "output_type": "stream",
          "name": "stdout",
          "text": [
            "Columns in dataset:\n",
            "['Name', 'Age', 'Gender', 'Blood Type', 'Medical Condition', 'Date of Admission', 'Doctor', 'Hospital', 'Insurance Provider', 'Billing Amount', 'Room Number', 'Admission Type', 'Discharge Date', 'Medication', 'Test Results']\n"
          ]
        }
      ]
    },
    {
      "cell_type": "markdown",
      "source": [
        "**End-to-End Imputation and Downstream Classification Pipeline (HyImpute Model Demo)**"
      ],
      "metadata": {
        "id": "cLYcvESWVHMW"
      }
    },
    {
      "cell_type": "code",
      "source": [
        "import numpy as np\n",
        "from sklearn.preprocessing import LabelEncoder\n",
        "from sklearn.impute import SimpleImputer, KNNImputer\n",
        "from sklearn.experimental import enable_iterative_imputer\n",
        "from sklearn.impute import IterativeImputer\n",
        "from sklearn.model_selection import train_test_split\n",
        "from sklearn.ensemble import RandomForestClassifier\n",
        "from sklearn.metrics import accuracy_score, precision_score, recall_score, f1_score, roc_auc_score\n",
        "\n",
        "def preprocess_for_imputation(df):\n",
        "    df = df.copy()\n",
        "    categorical_cols = df.select_dtypes(include=['object', 'category']).columns\n",
        "    for col in categorical_cols:\n",
        "        df[col] = df[col].astype(str)\n",
        "        df[col] = df[col].fillna('missing')\n",
        "        le = LabelEncoder()\n",
        "        df[col] = le.fit_transform(df[col])\n",
        "    return df\n",
        "\n",
        "def simulate_missingness(dataframe, missing_rate=0.3, random_state=42):\n",
        "    df = dataframe.copy()\n",
        "    np.random.seed(random_state)\n",
        "    mask = np.random.rand(*df.shape) < missing_rate\n",
        "    df = df.mask(mask)\n",
        "    return df, mask\n",
        "\n",
        "def evaluate_imputation(original, imputed, mask):\n",
        "    original_vals = original[mask]\n",
        "    imputed_vals = imputed[mask]\n",
        "    rmse = np.sqrt(((original_vals - imputed_vals) ** 2).mean())\n",
        "    return rmse\n",
        "\n",
        "class HyImputeModel:\n",
        "    # Dummy simple mean imputer for demo; replace with your logic\n",
        "    def fit(self, X):\n",
        "        from sklearn.impute import SimpleImputer\n",
        "        self.imputer = SimpleImputer(strategy='mean')\n",
        "        self.imputer.fit(X)\n",
        "        return self\n",
        "\n",
        "    def transform(self, X):\n",
        "        return self.imputer.transform(X)\n",
        "\n",
        "def run_pipeline(df, target_col):\n",
        "    df_encoded = preprocess_for_imputation(df)\n",
        "    y = df_encoded[target_col].values\n",
        "    df_encoded = df_encoded.drop(columns=[target_col])\n",
        "\n",
        "    data = df_encoded.values\n",
        "    data_missing, missing_mask = simulate_missingness(df_encoded, missing_rate=0.3)\n",
        "    data_missing = data_missing.values\n",
        "\n",
        "    # Baselines\n",
        "    mean_imputer = SimpleImputer(strategy='mean')\n",
        "    mean_imputed = mean_imputer.fit_transform(data_missing)\n",
        "    rmse_mean = evaluate_imputation(data, mean_imputed, missing_mask)\n",
        "\n",
        "    knn_imputer = KNNImputer(n_neighbors=5)\n",
        "    knn_imputed = knn_imputer.fit_transform(data_missing)\n",
        "    rmse_knn = evaluate_imputation(data, knn_imputed, missing_mask)\n",
        "\n",
        "    mice_imputer = IterativeImputer(random_state=42)\n",
        "    mice_imputed = mice_imputer.fit_transform(data_missing)\n",
        "    rmse_mice = evaluate_imputation(data, mice_imputed, missing_mask)\n",
        "\n",
        "\n",
        "    hyimpute = HyImputeModel()\n",
        "    hyimpute.fit(data_missing)\n",
        "    hyimputed_data = hyimpute.transform(data_missing)\n",
        "    rmse_hyimpute = evaluate_imputation(data, hyimputed_data, missing_mask)\n",
        "\n",
        "    print(f\"RMSEs -> Mean: {rmse_mean:.4f}, KNN: {rmse_knn:.4f}, MICE: {rmse_mice:.4f}, HyImpute: {rmse_hyimpute:.4f}\")\n",
        "\n",
        "\n",
        "    X_train, X_test, y_train, y_test = train_test_split(hyimputed_data, y, test_size=0.3, random_state=42)\n",
        "    clf = RandomForestClassifier(random_state=42)\n",
        "    clf.fit(X_train, y_train)\n",
        "    y_pred = clf.predict(X_test)\n",
        "\n",
        "    print(\"Downstream classifier performance on HyImpute data:\")\n",
        "    print(f\"Accuracy: {accuracy_score(y_test, y_pred):.4f}\")\n",
        "    print(f\"Precision: {precision_score(y_test, y_pred, average='weighted'):.4f}\")\n",
        "    print(f\"Recall: {recall_score(y_test, y_pred, average='weighted'):.4f}\")\n",
        "    print(f\"F1 Score: {f1_score(y_test, y_pred, average='weighted'):.4f}\")\n",
        "\n"
      ],
      "metadata": {
        "id": "ebCCVYg475Ul"
      },
      "execution_count": null,
      "outputs": []
    },
    {
      "cell_type": "code",
      "source": [
        "print([f\"'{col}'\" for col in df.columns])\n"
      ],
      "metadata": {
        "colab": {
          "base_uri": "https://localhost:8080/"
        },
        "id": "RmOVZQkI9qBq",
        "outputId": "c735a69c-5f92-4721-a40f-06827e5ea178"
      },
      "execution_count": null,
      "outputs": [
        {
          "output_type": "stream",
          "name": "stdout",
          "text": [
            "[\"'Name'\", \"'Age'\", \"'Gender'\", \"'Blood Type'\", \"'Medical Condition'\", \"'Date of Admission'\", \"'Doctor'\", \"'Hospital'\", \"'Insurance Provider'\", \"'Billing Amount'\", \"'Room Number'\", \"'Admission Type'\", \"'Discharge Date'\", \"'Medication'\", \"'Test Results'\"]\n"
          ]
        }
      ]
    },
    {
      "cell_type": "code",
      "source": [
        "df.columns = df.columns.str.strip()\n"
      ],
      "metadata": {
        "id": "9AoPqWqi9qKO"
      },
      "execution_count": null,
      "outputs": []
    },
    {
      "cell_type": "code",
      "source": [
        "target_col = 'Medical Condition'\n",
        "run_pipeline(df, target_col)\n"
      ],
      "metadata": {
        "colab": {
          "base_uri": "https://localhost:8080/"
        },
        "id": "wm663ueb9qRx",
        "outputId": "67b73bce-5e63-457c-cd47-4decf79d96b4"
      },
      "execution_count": null,
      "outputs": [
        {
          "output_type": "stream",
          "name": "stdout",
          "text": [
            "RMSEs -> Mean: 6910.6020, KNN: 7478.6547, MICE: 6908.8909, HyImpute: 6910.6020\n",
            "Downstream classifier performance on HyImpute data:\n",
            "Accuracy: 0.1959\n",
            "Precision: 0.1961\n",
            "Recall: 0.1959\n",
            "F1 Score: 0.1959\n"
          ]
        }
      ]
    },
    {
      "cell_type": "markdown",
      "source": [
        "**Load Healthcare Dataset and Prepare Target Column**"
      ],
      "metadata": {
        "id": "seSnKpcAVVvx"
      }
    },
    {
      "cell_type": "code",
      "source": [
        "import pandas as pd\n",
        "\n",
        "df = pd.read_csv('healthcare_dataset.csv')\n",
        "df.columns = df.columns.str.strip()\n",
        "\n",
        "print(\"Columns after stripping whitespace:\")\n",
        "print(df.columns.tolist())\n",
        "\n",
        "\n",
        "target_col = 'Medical Condition'\n"
      ],
      "metadata": {
        "colab": {
          "base_uri": "https://localhost:8080/"
        },
        "id": "40r8FsN88V9p",
        "outputId": "73462c4d-bf2d-47eb-851a-2953818f4644"
      },
      "execution_count": null,
      "outputs": [
        {
          "output_type": "stream",
          "name": "stdout",
          "text": [
            "Columns after stripping whitespace:\n",
            "['Name', 'Age', 'Gender', 'Blood Type', 'Medical Condition', 'Date of Admission', 'Doctor', 'Hospital', 'Insurance Provider', 'Billing Amount', 'Room Number', 'Admission Type', 'Discharge Date', 'Medication', 'Test Results']\n"
          ]
        }
      ]
    },
    {
      "cell_type": "markdown",
      "source": [
        "**Preprocessing: Encoding Categorical and Scaling Numeric Features**"
      ],
      "metadata": {
        "id": "_7uddmiuVeqz"
      }
    },
    {
      "cell_type": "code",
      "source": [
        "def preprocess(df):\n",
        "    df = df.copy()\n",
        "    df.columns = df.columns.str.strip()\n",
        "    cats = df.select_dtypes(include='object').columns.drop(target_col)\n",
        "    for col in cats:\n",
        "        df[col] = df[col].astype(str)\n",
        "        le = LabelEncoder()\n",
        "        df[col] = le.fit_transform(df[col])\n",
        "    numerics = df.select_dtypes(include='number').columns.drop(target_col)\n",
        "    scaler = StandardScaler()\n",
        "    df[numerics] = scaler.fit_transform(df[numerics])\n",
        "    return df, scaler\n",
        "\n",
        "\n"
      ],
      "metadata": {
        "id": "B2MaLZ_j8WC6"
      },
      "execution_count": null,
      "outputs": []
    },
    {
      "cell_type": "code",
      "source": [
        "df = pd.read_csv('healthcare_dataset.csv')\n",
        "df.columns = df.columns.str.strip()\n"
      ],
      "metadata": {
        "id": "lF1MDssDAQU4"
      },
      "execution_count": null,
      "outputs": []
    },
    {
      "cell_type": "markdown",
      "source": [
        "**Preprocessing Function with Label Encoding and Scaling (with Target Column Check)**"
      ],
      "metadata": {
        "id": "7LMxB69eVvZL"
      }
    },
    {
      "cell_type": "code",
      "source": [
        "def preprocess(df, target_col):\n",
        "    df = df.copy()\n",
        "    df.columns = df.columns.str.strip()\n",
        "    if target_col not in df.columns:\n",
        "        raise ValueError(f\"Target column '{target_col}' not found in dataframe columns: {df.columns.tolist()}\")\n",
        "\n",
        "    cats = df.select_dtypes(include='object').columns.tolist()\n",
        "    if target_col in cats:\n",
        "        cats.remove(target_col)\n",
        "\n",
        "    for col in cats:\n",
        "        df[col] = df[col].astype(str)\n",
        "        le = LabelEncoder()\n",
        "        df[col] = le.fit_transform(df[col])\n",
        "\n",
        "    numerics = df.select_dtypes(include='number').columns.tolist()\n",
        "    if target_col in numerics:\n",
        "        numerics.remove(target_col)\n",
        "\n",
        "    scaler = StandardScaler()\n",
        "    df[numerics] = scaler.fit_transform(df[numerics])\n",
        "\n",
        "    return df, scaler\n"
      ],
      "metadata": {
        "id": "Nwk9EmzRAQaV"
      },
      "execution_count": null,
      "outputs": []
    },
    {
      "cell_type": "code",
      "source": [
        "target_col = 'Medical Condition'\n",
        "df_processed, scaler = preprocess(df, target_col)\n"
      ],
      "metadata": {
        "id": "xreo_E9DAQcr"
      },
      "execution_count": null,
      "outputs": []
    },
    {
      "cell_type": "markdown",
      "source": [
        "**Sample Dataset Subset and Run Preprocessing and Pipeline Functions**"
      ],
      "metadata": {
        "id": "Z7h4pTeVV5h8"
      }
    },
    {
      "cell_type": "code",
      "source": [
        "\n",
        "df_sample = df.sample(n=10000, random_state=42)\n",
        "\n",
        "\n",
        "df_processed, scaler = preprocess(df_sample, target_col)\n",
        "run_pipeline(df_processed, target_col)\n"
      ],
      "metadata": {
        "colab": {
          "base_uri": "https://localhost:8080/"
        },
        "id": "bq329I8IBUVl",
        "outputId": "a41c1ae5-b3ef-4d54-8054-e299f1584cf9"
      },
      "execution_count": null,
      "outputs": [
        {
          "output_type": "stream",
          "name": "stdout",
          "text": [
            "RMSEs -> Mean: 1.0001, KNN: 1.0650, MICE: 0.9479, HyImpute: 1.0001\n",
            "Downstream classifier performance on HyImpute data:\n",
            "Accuracy: 0.1770\n",
            "Precision: 0.1800\n",
            "Recall: 0.1770\n",
            "F1 Score: 0.1757\n"
          ]
        }
      ]
    },
    {
      "cell_type": "markdown",
      "source": [
        "**Denoising Autoencoder for Missing Data Imputation and Downstream Classification**"
      ],
      "metadata": {
        "id": "_EgtS-B6WBkO"
      }
    },
    {
      "cell_type": "code",
      "source": [
        "import pandas as pd\n",
        "import numpy as np\n",
        "from sklearn.preprocessing import LabelEncoder, StandardScaler\n",
        "from sklearn.model_selection import train_test_split\n",
        "from sklearn.metrics import mean_squared_error, accuracy_score, precision_score, recall_score, f1_score\n",
        "from sklearn.ensemble import RandomForestClassifier\n",
        "import tensorflow as tf\n",
        "from tensorflow.keras.models import Model\n",
        "from tensorflow.keras.layers import Input, Dense, Dropout\n",
        "from tensorflow.keras.callbacks import EarlyStopping\n",
        "\n",
        "\n",
        "df = pd.read_csv('healthcare_dataset.csv')\n",
        "df.columns = df.columns.str.strip()\n",
        "\n",
        "target_col = 'Medical Condition'\n",
        "\n",
        "\n",
        "def preprocess(df, target_col):\n",
        "    df = df.copy()\n",
        "    cats = df.select_dtypes(include='object').columns.tolist()\n",
        "    if target_col in cats:\n",
        "        cats.remove(target_col)\n",
        "    for col in cats:\n",
        "        df[col] = df[col].astype(str)\n",
        "        le = LabelEncoder()\n",
        "        df[col] = le.fit_transform(df[col])\n",
        "    numerics = df.select_dtypes(include='number').columns.tolist()\n",
        "    if target_col in numerics:\n",
        "        numerics.remove(target_col)\n",
        "    scaler = StandardScaler()\n",
        "    df[numerics] = scaler.fit_transform(df[numerics])\n",
        "    return df, scaler\n",
        "\n",
        "df_processed, scaler = preprocess(df, target_col)\n",
        "X_full = df_processed.drop(columns=[target_col]).values\n",
        "y = df_processed[target_col].values\n",
        "\n",
        "\n",
        "def add_missingness(X, rate=0.3, seed=42):\n",
        "    np.random.seed(seed)\n",
        "    mask = np.random.rand(*X.shape) < rate\n",
        "    X_missing = X.copy()\n",
        "    X_missing[mask] = np.nan\n",
        "    return X_missing, mask\n",
        "\n",
        "X_missing, missing_mask = add_missingness(X_full, 0.3)\n",
        "X_missing_zero = np.nan_to_num(X_missing, nan=0)\n",
        "\n",
        "\n",
        "input_dim = X_missing.shape[1]\n",
        "inputs = Input(shape=(input_dim,))\n",
        "encoded = Dense(256, activation='relu')(inputs)\n",
        "encoded = Dropout(0.2)(encoded)\n",
        "encoded = Dense(128, activation='relu')(encoded)\n",
        "encoded = Dropout(0.2)(encoded)\n",
        "decoded = Dense(256, activation='relu')(encoded)\n",
        "decoded = Dense(input_dim, activation='linear')(decoded)\n",
        "autoencoder = Model(inputs, decoded)\n",
        "autoencoder.compile(optimizer='adam', loss='mse')\n",
        "early_stop = EarlyStopping(monitor='val_loss', patience=10, restore_best_weights=True)\n",
        "\n",
        "\n",
        "autoencoder.fit(X_missing_zero, X_full,\n",
        "                epochs=100, batch_size=128, validation_split=0.2, callbacks=[early_stop], verbose=2)\n",
        "\n",
        "\n",
        "X_imputed = autoencoder.predict(X_missing_zero)\n",
        "\n",
        "\n",
        "rmse = np.sqrt(mean_squared_error(X_full[missing_mask], X_imputed[missing_mask]))\n",
        "print(f'Improved Autoencoder Imputation RMSE: {rmse:.4f}')\n",
        "\n",
        "\n",
        "X_train, X_test, y_train, y_test = train_test_split(X_imputed, y, test_size=0.3, random_state=42)\n",
        "clf = RandomForestClassifier(random_state=42)\n",
        "clf.fit(X_train, y_train)\n",
        "y_pred = clf.predict(X_test)\n",
        "\n",
        "print('Downstream classification results:')\n",
        "print(f'Accuracy: {accuracy_score(y_test, y_pred):.4f}')\n",
        "print(f'Precision: {precision_score(y_test, y_pred, average=\"weighted\"):.4f}')\n",
        "print(f'Recall: {recall_score(y_test, y_pred, average=\"weighted\"):.4f}')\n",
        "print(f'F1 Score: {f1_score(y_test, y_pred, average=\"weighted\"):.4f}')\n"
      ],
      "metadata": {
        "id": "Jom92Jh5BUYJ",
        "colab": {
          "base_uri": "https://localhost:8080/"
        },
        "outputId": "42f251af-4301-4412-f580-df50196d842a"
      },
      "execution_count": 37,
      "outputs": [
        {
          "output_type": "stream",
          "name": "stdout",
          "text": [
            "Epoch 1/100\n",
            "347/347 - 7s - 19ms/step - loss: 0.3930 - val_loss: 0.2952\n",
            "Epoch 2/100\n",
            "347/347 - 2s - 5ms/step - loss: 0.3466 - val_loss: 0.2902\n",
            "Epoch 3/100\n",
            "347/347 - 2s - 5ms/step - loss: 0.3399 - val_loss: 0.2898\n",
            "Epoch 4/100\n",
            "347/347 - 2s - 5ms/step - loss: 0.3346 - val_loss: 0.2835\n",
            "Epoch 5/100\n",
            "347/347 - 2s - 7ms/step - loss: 0.3313 - val_loss: 0.2839\n",
            "Epoch 6/100\n",
            "347/347 - 2s - 5ms/step - loss: 0.3284 - val_loss: 0.2849\n",
            "Epoch 7/100\n",
            "347/347 - 2s - 7ms/step - loss: 0.3270 - val_loss: 0.2844\n",
            "Epoch 8/100\n",
            "347/347 - 2s - 6ms/step - loss: 0.3242 - val_loss: 0.2844\n",
            "Epoch 9/100\n",
            "347/347 - 2s - 5ms/step - loss: 0.3224 - val_loss: 0.2847\n",
            "Epoch 10/100\n",
            "347/347 - 2s - 5ms/step - loss: 0.3202 - val_loss: 0.2856\n",
            "Epoch 11/100\n",
            "347/347 - 2s - 5ms/step - loss: 0.3188 - val_loss: 0.2859\n",
            "Epoch 12/100\n",
            "347/347 - 2s - 5ms/step - loss: 0.3163 - val_loss: 0.2859\n",
            "Epoch 13/100\n",
            "347/347 - 2s - 5ms/step - loss: 0.3151 - val_loss: 0.2875\n",
            "Epoch 14/100\n",
            "347/347 - 3s - 8ms/step - loss: 0.3135 - val_loss: 0.2894\n",
            "\u001b[1m1735/1735\u001b[0m \u001b[32m━━━━━━━━━━━━━━━━━━━━\u001b[0m\u001b[37m\u001b[0m \u001b[1m2s\u001b[0m 1ms/step\n",
            "Improved Autoencoder Imputation RMSE: 0.9461\n",
            "Downstream classification results:\n",
            "Accuracy: 0.1714\n",
            "Precision: 0.1715\n",
            "Recall: 0.1714\n",
            "F1 Score: 0.1713\n"
          ]
        }
      ]
    },
    {
      "cell_type": "markdown",
      "source": [
        "**XGBoost Classifier Training and Evaluation on Imputed Data**"
      ],
      "metadata": {
        "id": "_WAey7WoWNlB"
      }
    },
    {
      "cell_type": "code",
      "source": [
        "from sklearn.preprocessing import LabelEncoder\n",
        "\n",
        "\n",
        "le = LabelEncoder()\n",
        "y_encoded = le.fit_transform(y)\n",
        "\n",
        "\n",
        "X_train, X_test, y_train, y_test = train_test_split(X_imputed, y_encoded, test_size=0.3, random_state=42)\n",
        "\n",
        "\n",
        "xgb_clf = xgb.XGBClassifier(use_label_encoder=False, eval_metric='mlogloss', random_state=42)\n",
        "xgb_clf.fit(X_train, y_train)\n",
        "\n",
        "\n",
        "y_pred = xgb_clf.predict(X_test)\n",
        "\n",
        "\n",
        "print(\"XGBoost classifier results:\")\n",
        "print(f\"Accuracy: {accuracy_score(y_test, y_pred):.4f}\")\n",
        "print(f\"Precision: {precision_score(y_test, y_pred, average='weighted'):.4f}\")\n",
        "print(f\"Recall: {recall_score(y_test, y_pred, average='weighted'):.4f}\")\n",
        "print(f\"F1 Score: {f1_score(y_test, y_pred, average='weighted'):.4f}\")\n",
        "\n",
        "\n",
        "y_pred_labels = le.inverse_transform(y_pred)\n"
      ],
      "metadata": {
        "colab": {
          "base_uri": "https://localhost:8080/"
        },
        "id": "bX8yslblL775",
        "outputId": "f6a6d3ff-f22f-43f0-ba83-b1476551683d"
      },
      "execution_count": 39,
      "outputs": [
        {
          "output_type": "stream",
          "name": "stderr",
          "text": [
            "/usr/local/lib/python3.12/dist-packages/xgboost/training.py:183: UserWarning: [19:25:11] WARNING: /workspace/src/learner.cc:738: \n",
            "Parameters: { \"use_label_encoder\" } are not used.\n",
            "\n",
            "  bst.update(dtrain, iteration=i, fobj=obj)\n"
          ]
        },
        {
          "output_type": "stream",
          "name": "stdout",
          "text": [
            "XGBoost classifier results:\n",
            "Accuracy: 0.1602\n",
            "Precision: 0.1602\n",
            "Recall: 0.1602\n",
            "F1 Score: 0.1601\n"
          ]
        }
      ]
    },
    {
      "cell_type": "markdown",
      "source": [
        "**Hyperparameter Tuning for XGBoost Classifier Using GridSearchCV**"
      ],
      "metadata": {
        "id": "rY-bbQdZWVvJ"
      }
    },
    {
      "cell_type": "code",
      "source": [
        "from sklearn.model_selection import GridSearchCV\n",
        "import xgboost as xgb\n",
        "\n",
        "\n",
        "X_train, X_test, y_train, y_test = train_test_split(X_imputed, y_encoded, test_size=0.3, random_state=42)\n",
        "\n",
        "\n",
        "param_grid = {\n",
        "    'max_depth': [3, 5, 7],\n",
        "    'n_estimators': [100, 200],\n",
        "    'learning_rate': [0.01, 0.1, 0.2],\n",
        "    'subsample': [0.7, 1.0]\n",
        "}\n",
        "\n",
        "\n",
        "xgb_clf = xgb.XGBClassifier(use_label_encoder=False, eval_metric='mlogloss', random_state=42)\n",
        "\n",
        "\n",
        "grid_search = GridSearchCV(estimator=xgb_clf, param_grid=param_grid,\n",
        "                           cv=3, scoring='accuracy', verbose=2, n_jobs=-1)\n",
        "\n",
        "\n",
        "grid_search.fit(X_train, y_train)\n",
        "\n",
        "\n",
        "print(\"Best parameters found:\", grid_search.best_params_)\n",
        "\n",
        "\n",
        "best_model = grid_search.best_estimator_\n",
        "y_pred = best_model.predict(X_test)\n",
        "\n",
        "print(\"Tuned XGBoost classifier results:\")\n",
        "print(f\"Accuracy: {accuracy_score(y_test, y_pred):.4f}\")\n",
        "print(f\"Precision: {precision_score(y_test, y_pred, average='weighted'):.4f}\")\n",
        "print(f\"Recall: {recall_score(y_test, y_pred, average='weighted'):.4f}\")\n",
        "print(f\"F1 Score: {f1_score(y_test, y_pred, average='weighted'):.4f}\")\n"
      ],
      "metadata": {
        "colab": {
          "base_uri": "https://localhost:8080/"
        },
        "id": "Js92Xo5qL8F_",
        "outputId": "7ecf68bc-ae19-4b7b-d513-e3dc4bb64e71"
      },
      "execution_count": 40,
      "outputs": [
        {
          "output_type": "stream",
          "name": "stdout",
          "text": [
            "Fitting 3 folds for each of 36 candidates, totalling 108 fits\n"
          ]
        },
        {
          "output_type": "stream",
          "name": "stderr",
          "text": [
            "/usr/local/lib/python3.12/dist-packages/xgboost/training.py:183: UserWarning: [19:37:03] WARNING: /workspace/src/learner.cc:738: \n",
            "Parameters: { \"use_label_encoder\" } are not used.\n",
            "\n",
            "  bst.update(dtrain, iteration=i, fobj=obj)\n"
          ]
        },
        {
          "output_type": "stream",
          "name": "stdout",
          "text": [
            "Best parameters found: {'learning_rate': 0.2, 'max_depth': 7, 'n_estimators': 100, 'subsample': 1.0}\n",
            "Tuned XGBoost classifier results:\n",
            "Accuracy: 0.1695\n",
            "Precision: 0.1697\n",
            "Recall: 0.1695\n",
            "F1 Score: 0.1694\n"
          ]
        }
      ]
    },
    {
      "cell_type": "markdown",
      "source": [
        "**Balanced Training Using SMOTE and Classification with XGBoost**"
      ],
      "metadata": {
        "id": "2tD40U5hWeG1"
      }
    },
    {
      "cell_type": "code",
      "source": [
        "from imblearn.over_sampling import SMOTE\n",
        "from sklearn.preprocessing import LabelEncoder\n",
        "from sklearn.model_selection import train_test_split\n",
        "from xgboost import XGBClassifier\n",
        "from sklearn.metrics import accuracy_score, precision_score, recall_score, f1_score\n",
        "\n",
        "\n",
        "le = LabelEncoder()\n",
        "y_encoded = le.fit_transform(y)\n",
        "\n",
        "\n",
        "X_train, X_test, y_train, y_test = train_test_split(X_imputed, y_encoded, test_size=0.3, random_state=42, stratify=y_encoded)\n",
        "\n",
        "\n",
        "sm = SMOTE(random_state=42)\n",
        "X_train_res, y_train_res = sm.fit_resample(X_train, y_train)\n",
        "\n",
        "#\n",
        "xgb_clf = XGBClassifier(max_depth=7, learning_rate=0.2, n_estimators=100, subsample=1.0, random_state=42, eval_metric='mlogloss')\n",
        "\n",
        "xgb_clf.fit(X_train_res, y_train_res)\n",
        "\n",
        "\n",
        "y_pred = xgb_clf.predict(X_test)\n",
        "\n",
        "\n",
        "print(\"XGBoost with SMOTE results:\")\n",
        "print(f\"Accuracy: {accuracy_score(y_test, y_pred):.4f}\")\n",
        "print(f\"Precision: {precision_score(y_test, y_pred, average='weighted'):.4f}\")\n",
        "print(f\"Recall: {recall_score(y_test, y_pred, average='weighted'):.4f}\")\n",
        "print(f\"F1 Score: {f1_score(y_test, y_pred, average='weighted'):.4f}\")\n"
      ],
      "metadata": {
        "colab": {
          "base_uri": "https://localhost:8080/"
        },
        "id": "9IWrsXsLL8RX",
        "outputId": "8ae2ae2c-16de-497a-e4a8-e2bc57e12230"
      },
      "execution_count": 41,
      "outputs": [
        {
          "output_type": "stream",
          "name": "stdout",
          "text": [
            "XGBoost with SMOTE results:\n",
            "Accuracy: 0.1705\n",
            "Precision: 0.1705\n",
            "Recall: 0.1705\n",
            "F1 Score: 0.1705\n"
          ]
        }
      ]
    },
    {
      "cell_type": "markdown",
      "source": [
        "**PCA Dimensionality Reduction and Classification with XGBoost**"
      ],
      "metadata": {
        "id": "GDbr3mUWWl99"
      }
    },
    {
      "cell_type": "code",
      "source": [
        "from sklearn.decomposition import PCA\n",
        "\n",
        "#\n",
        "\n",
        "pca = PCA(n_components=0.95)\n",
        "X_reduced = pca.fit_transform(X_imputed)\n",
        "\n",
        "\n",
        "X_train, X_test, y_train, y_test = train_test_split(X_reduced, y_encoded, test_size=0.3, random_state=42, stratify=y_encoded)\n",
        "\n",
        "#\n",
        "xgb_clf = xgb.XGBClassifier(max_depth=7, learning_rate=0.2, n_estimators=100)\n",
        "xgb_clf.fit(X_train, y_train)\n",
        "y_pred = xgb_clf.predict(X_test)\n",
        "\n",
        "\n",
        "print(f\"Accuracy after PCA: {accuracy_score(y_test, y_pred):.4f}\")\n",
        "print(f\"Precision: {precision_score(y_test, y_pred, average='weighted'):.4f}\")\n",
        "print(f\"Recall: {recall_score(y_test, y_pred, average='weighted'):.4f}\")\n",
        "print(f\"F1 Score: {f1_score(y_test, y_pred, average='weighted'):.4f}\")\n"
      ],
      "metadata": {
        "colab": {
          "base_uri": "https://localhost:8080/"
        },
        "id": "a2tZQ3KRL8UC",
        "outputId": "95031c30-5e78-43a0-ba02-105e850cb2af"
      },
      "execution_count": 42,
      "outputs": [
        {
          "output_type": "stream",
          "name": "stdout",
          "text": [
            "Accuracy after PCA: 0.1678\n",
            "Precision: 0.1678\n",
            "Recall: 0.1678\n",
            "F1 Score: 0.1678\n"
          ]
        }
      ]
    },
    {
      "cell_type": "markdown",
      "source": [
        "**Confusion Matrix Visualization and Classification Report**"
      ],
      "metadata": {
        "id": "IYk6UOrFXYCT"
      }
    },
    {
      "cell_type": "code",
      "source": [
        "import matplotlib.pyplot as plt\n",
        "from sklearn.metrics import confusion_matrix, classification_report\n",
        "import seaborn as sns\n",
        "\n",
        "\n",
        "cm = confusion_matrix(y_test, y_pred)\n",
        "plt.figure(figsize=(10,8))\n",
        "sns.heatmap(cm, annot=True, fmt='d', cmap='Blues')\n",
        "plt.xlabel('Predicted Label')\n",
        "plt.ylabel('True Label')\n",
        "plt.title('Confusion Matrix')\n",
        "plt.show()\n",
        "\n",
        "#\n",
        "print(\"Classification Report:\")\n",
        "print(classification_report(y_test, y_pred))\n"
      ],
      "metadata": {
        "colab": {
          "base_uri": "https://localhost:8080/",
          "height": 968
        },
        "id": "TEFSwMruQCFx",
        "outputId": "6fcf8cc6-dc18-4fb5-c64c-38deae72c963"
      },
      "execution_count": 43,
      "outputs": [
        {
          "output_type": "display_data",
          "data": {
            "text/plain": [
              "<Figure size 1000x800 with 2 Axes>"
            ],
            "image/png": "[encoded data removed]"
          },
          "metadata": {}
        },
        {
          "output_type": "stream",
          "name": "stdout",
          "text": [
            "Classification Report:\n",
            "              precision    recall  f1-score   support\n",
            "\n",
            "           0       0.17      0.18      0.18      2792\n",
            "           1       0.16      0.16      0.16      2756\n",
            "           2       0.16      0.16      0.16      2768\n",
            "           3       0.16      0.17      0.17      2791\n",
            "           4       0.17      0.16      0.17      2774\n",
            "           5       0.17      0.18      0.17      2769\n",
            "\n",
            "    accuracy                           0.17     16650\n",
            "   macro avg       0.17      0.17      0.17     16650\n",
            "weighted avg       0.17      0.17      0.17     16650\n",
            "\n"
          ]
        }
      ]
    },
    {
      "cell_type": "markdown",
      "source": [
        "**Feature Engineering: Age Binning, Interaction Terms, and Target Encoding**"
      ],
      "metadata": {
        "id": "yxRJn87bXgdK"
      }
    },
    {
      "cell_type": "code",
      "source": [
        "from sklearn.preprocessing import LabelEncoder\n",
        "\n",
        "def feature_engineering(df, target_col):\n",
        "    df = df.copy()\n",
        "\n",
        "\n",
        "    le_target = LabelEncoder()\n",
        "    y_numeric = le_target.fit_transform(df[target_col].astype(str))\n",
        "\n",
        "\n",
        "    df['AgeGroup'] = pd.cut(df['Age'], bins=[0, 18, 35, 50, 65, 100], labels=False)\n",
        "\n",
        "\n",
        "    df['Billing_Room_Interaction'] = df['Billing Amount'] * df['Room Number']\n",
        "\n",
        "\n",
        "    temp_df = df[[target_col, 'Insurance Provider']].copy()\n",
        "    temp_df[target_col+'_num'] = y_numeric\n",
        "    means = temp_df.groupby('Insurance Provider')[target_col+'_num'].mean()\n",
        "    df['Insurance_Provider_TE'] = df['Insurance Provider'].map(means)\n",
        "\n",
        "    return df\n",
        "\n",
        "\n",
        "df_fe = feature_engineering(df, 'Medical Condition')\n"
      ],
      "metadata": {
        "id": "oN6YG0XhQCRd"
      },
      "execution_count": 47,
      "outputs": []
    }
  ]
}